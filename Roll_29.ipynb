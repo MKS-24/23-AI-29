{
 "cells": [
  {
   "cell_type": "code",
   "execution_count": null,
   "metadata": {
    "vscode": {
     "languageId": "plaintext"
    }
   },
   "outputs": [],
   "source": [
    "def check(s):\n",
    "    char_count = {} \n",
    "    for char in s:\n",
    "        if char in char_count:\n",
    "            char_count[char] += 1\n",
    "        else:\n",
    "            char_count = 1\n",
    "    length = 0\n",
    "    odd = False \n",
    "    for count in char_count.value():\n",
    "        if count % 2 == 0:\n",
    "            length += count\n",
    "        else:\n",
    "            length += count-1\n",
    "            odd = True\n",
    "        if odd:\n",
    "            length += 1\n",
    "        return length\n",
    "\n",
    "# function purpose is to count the charactert in all string if character is even so we add into char_count then after calculation of second loop calcute the length by this and afer return length\n",
    "c = \"abccccdd\"\n",
    "print(check(c))\n",
    "            \n",
    "            "
   ]
  }
 ],
 "metadata": {
  "language_info": {
   "name": "python"
  }
 },
 "nbformat": 4,
 "nbformat_minor": 2
}
